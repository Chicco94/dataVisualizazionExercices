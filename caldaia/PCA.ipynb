{
 "cells": [
  {
   "cell_type": "markdown",
   "source": [
    "# ANALISI COMPONENTI PRINCIPALI"
   ],
   "metadata": {}
  },
  {
   "cell_type": "code",
   "execution_count": 10,
   "source": [
    "import pandas as pd\r\n",
    "import seaborn as snb\r\n",
    "from matplotlib import pyplot as plt\r\n",
    "from sklearn.decomposition import PCA\r\n",
    "\r\n",
    "df = pd.read_csv(\"data/cremaCaldaia (3).csv\")"
   ],
   "outputs": [],
   "metadata": {}
  },
  {
   "cell_type": "code",
   "execution_count": 11,
   "source": [
    "df.sort_values(by='timestamp', inplace=True)\r\n",
    "df[['date','time']] = df.timestamp.str.split(\" \",expand=True)\r\n",
    "df['date'] = df['date'].str.replace(\"-\",\"\").astype(int)\r\n",
    "df['time'] = df['time'].str.replace(\":\",\"\").astype(int)\r\n",
    "df['target']=df['T_AcACS_C']\r\n",
    "df.drop(columns=['timestamp','T_AcACS_C'], inplace=True)\r\n",
    "df.head()"
   ],
   "outputs": [
    {
     "output_type": "execute_result",
     "data": {
      "text/html": [
       "<div>\n",
       "<style scoped>\n",
       "    .dataframe tbody tr th:only-of-type {\n",
       "        vertical-align: middle;\n",
       "    }\n",
       "\n",
       "    .dataframe tbody tr th {\n",
       "        vertical-align: top;\n",
       "    }\n",
       "\n",
       "    .dataframe thead th {\n",
       "        text-align: right;\n",
       "    }\n",
       "</style>\n",
       "<table border=\"1\" class=\"dataframe\">\n",
       "  <thead>\n",
       "    <tr style=\"text-align: right;\">\n",
       "      <th></th>\n",
       "      <th>T_Esterna</th>\n",
       "      <th>T_Mand_Ca</th>\n",
       "      <th>T_Rit_Cal</th>\n",
       "      <th>T_Mand_So</th>\n",
       "      <th>T_Rit_Sol</th>\n",
       "      <th>T_AcACS_S</th>\n",
       "      <th>T_IngrAFS</th>\n",
       "      <th>T_Man_ACS</th>\n",
       "      <th>ACS_SP_Ca</th>\n",
       "      <th>CLD_EnCld</th>\n",
       "      <th>...</th>\n",
       "      <th>A1_ACS_VolTot</th>\n",
       "      <th>A2_ACS_VolTot</th>\n",
       "      <th>A3_ACS_VolTot</th>\n",
       "      <th>A4_ACS_VolTot</th>\n",
       "      <th>A5_ACS_VolTot</th>\n",
       "      <th>Cald_SttExt</th>\n",
       "      <th>PRicACS_SttExt</th>\n",
       "      <th>date</th>\n",
       "      <th>time</th>\n",
       "      <th>target</th>\n",
       "    </tr>\n",
       "  </thead>\n",
       "  <tbody>\n",
       "    <tr>\n",
       "      <th>0</th>\n",
       "      <td>25.75</td>\n",
       "      <td>41.53</td>\n",
       "      <td>39.12</td>\n",
       "      <td>34.44</td>\n",
       "      <td>34.22</td>\n",
       "      <td>43.83</td>\n",
       "      <td>25.32</td>\n",
       "      <td>41.32</td>\n",
       "      <td>50</td>\n",
       "      <td>981</td>\n",
       "      <td>...</td>\n",
       "      <td>42.0</td>\n",
       "      <td>0.2</td>\n",
       "      <td>28.7</td>\n",
       "      <td>4689.2</td>\n",
       "      <td>4</td>\n",
       "      <td>0</td>\n",
       "      <td>0</td>\n",
       "      <td>20210727</td>\n",
       "      <td>103725</td>\n",
       "      <td>44.75</td>\n",
       "    </tr>\n",
       "    <tr>\n",
       "      <th>1</th>\n",
       "      <td>25.75</td>\n",
       "      <td>41.53</td>\n",
       "      <td>39.12</td>\n",
       "      <td>34.44</td>\n",
       "      <td>34.22</td>\n",
       "      <td>43.83</td>\n",
       "      <td>25.32</td>\n",
       "      <td>41.32</td>\n",
       "      <td>50</td>\n",
       "      <td>981</td>\n",
       "      <td>...</td>\n",
       "      <td>42.0</td>\n",
       "      <td>0.2</td>\n",
       "      <td>28.7</td>\n",
       "      <td>4689.2</td>\n",
       "      <td>4</td>\n",
       "      <td>0</td>\n",
       "      <td>0</td>\n",
       "      <td>20210727</td>\n",
       "      <td>103735</td>\n",
       "      <td>44.75</td>\n",
       "    </tr>\n",
       "    <tr>\n",
       "      <th>2</th>\n",
       "      <td>25.75</td>\n",
       "      <td>41.53</td>\n",
       "      <td>39.12</td>\n",
       "      <td>34.44</td>\n",
       "      <td>34.22</td>\n",
       "      <td>43.83</td>\n",
       "      <td>25.32</td>\n",
       "      <td>41.32</td>\n",
       "      <td>50</td>\n",
       "      <td>981</td>\n",
       "      <td>...</td>\n",
       "      <td>42.0</td>\n",
       "      <td>0.2</td>\n",
       "      <td>28.7</td>\n",
       "      <td>4689.2</td>\n",
       "      <td>4</td>\n",
       "      <td>0</td>\n",
       "      <td>0</td>\n",
       "      <td>20210727</td>\n",
       "      <td>103746</td>\n",
       "      <td>44.75</td>\n",
       "    </tr>\n",
       "    <tr>\n",
       "      <th>3</th>\n",
       "      <td>25.75</td>\n",
       "      <td>41.53</td>\n",
       "      <td>39.12</td>\n",
       "      <td>34.44</td>\n",
       "      <td>34.22</td>\n",
       "      <td>43.83</td>\n",
       "      <td>25.32</td>\n",
       "      <td>41.32</td>\n",
       "      <td>50</td>\n",
       "      <td>981</td>\n",
       "      <td>...</td>\n",
       "      <td>42.0</td>\n",
       "      <td>0.2</td>\n",
       "      <td>28.7</td>\n",
       "      <td>4689.2</td>\n",
       "      <td>4</td>\n",
       "      <td>0</td>\n",
       "      <td>0</td>\n",
       "      <td>20210727</td>\n",
       "      <td>103756</td>\n",
       "      <td>44.75</td>\n",
       "    </tr>\n",
       "    <tr>\n",
       "      <th>4</th>\n",
       "      <td>25.77</td>\n",
       "      <td>41.53</td>\n",
       "      <td>39.12</td>\n",
       "      <td>34.44</td>\n",
       "      <td>34.22</td>\n",
       "      <td>43.83</td>\n",
       "      <td>25.32</td>\n",
       "      <td>41.16</td>\n",
       "      <td>50</td>\n",
       "      <td>981</td>\n",
       "      <td>...</td>\n",
       "      <td>42.0</td>\n",
       "      <td>0.2</td>\n",
       "      <td>28.7</td>\n",
       "      <td>4689.2</td>\n",
       "      <td>4</td>\n",
       "      <td>0</td>\n",
       "      <td>0</td>\n",
       "      <td>20210727</td>\n",
       "      <td>103806</td>\n",
       "      <td>44.75</td>\n",
       "    </tr>\n",
       "  </tbody>\n",
       "</table>\n",
       "<p>5 rows × 21 columns</p>\n",
       "</div>"
      ],
      "text/plain": [
       "   T_Esterna  T_Mand_Ca  T_Rit_Cal  T_Mand_So  T_Rit_Sol  T_AcACS_S  \\\n",
       "0      25.75      41.53      39.12      34.44      34.22      43.83   \n",
       "1      25.75      41.53      39.12      34.44      34.22      43.83   \n",
       "2      25.75      41.53      39.12      34.44      34.22      43.83   \n",
       "3      25.75      41.53      39.12      34.44      34.22      43.83   \n",
       "4      25.77      41.53      39.12      34.44      34.22      43.83   \n",
       "\n",
       "   T_IngrAFS  T_Man_ACS  ACS_SP_Ca  CLD_EnCld  ...  A1_ACS_VolTot  \\\n",
       "0      25.32      41.32         50        981  ...           42.0   \n",
       "1      25.32      41.32         50        981  ...           42.0   \n",
       "2      25.32      41.32         50        981  ...           42.0   \n",
       "3      25.32      41.32         50        981  ...           42.0   \n",
       "4      25.32      41.16         50        981  ...           42.0   \n",
       "\n",
       "   A2_ACS_VolTot  A3_ACS_VolTot  A4_ACS_VolTot  A5_ACS_VolTot  Cald_SttExt  \\\n",
       "0            0.2           28.7         4689.2              4            0   \n",
       "1            0.2           28.7         4689.2              4            0   \n",
       "2            0.2           28.7         4689.2              4            0   \n",
       "3            0.2           28.7         4689.2              4            0   \n",
       "4            0.2           28.7         4689.2              4            0   \n",
       "\n",
       "   PRicACS_SttExt      date    time  target  \n",
       "0               0  20210727  103725   44.75  \n",
       "1               0  20210727  103735   44.75  \n",
       "2               0  20210727  103746   44.75  \n",
       "3               0  20210727  103756   44.75  \n",
       "4               0  20210727  103806   44.75  \n",
       "\n",
       "[5 rows x 21 columns]"
      ]
     },
     "metadata": {},
     "execution_count": 11
    }
   ],
   "metadata": {}
  },
  {
   "cell_type": "code",
   "execution_count": 13,
   "source": [
    "pca = PCA(n_components=4)\r\n",
    "\r\n",
    "df_pca = pca.fit_transform(df)\r\n",
    "df_pca[0:5]"
   ],
   "outputs": [
    {
     "output_type": "execute_result",
     "data": {
      "text/plain": [
       "array([[ 1.43075660e+04, -8.42195996e+02,  6.84715130e+01,\n",
       "        -8.00227986e+00],\n",
       "       [ 1.42975660e+04, -8.42197510e+02,  6.84711032e+01,\n",
       "        -8.00186805e+00],\n",
       "       [ 1.42865660e+04, -8.42199176e+02,  6.84706524e+01,\n",
       "        -8.00141506e+00],\n",
       "       [ 1.42765660e+04, -8.42200691e+02,  6.84702426e+01,\n",
       "        -8.00100326e+00],\n",
       "       [ 1.42265660e+04, -8.42208263e+02,  6.84687534e+01,\n",
       "        -7.99474314e+00]])"
      ]
     },
     "metadata": {},
     "execution_count": 13
    }
   ],
   "metadata": {}
  },
  {
   "cell_type": "code",
   "execution_count": 20,
   "source": [
    "from sklearn.linear_model import LinearRegression\r\n",
    "from sklearn.model_selection import train_test_split\r\n",
    "from sklearn.metrics import mean_squared_error as mse, mean_absolute_error as mae, r2_score as r2\r\n",
    "\r\n",
    "X_train,X_test,y_train,y_test = train_test_split(df_pca,df['target'],random_state=0)"
   ],
   "outputs": [],
   "metadata": {}
  },
  {
   "cell_type": "code",
   "execution_count": 18,
   "source": [
    "model = LinearRegression()\r\n",
    "model.fit(X_train,y_train)"
   ],
   "outputs": [
    {
     "output_type": "execute_result",
     "data": {
      "text/plain": [
       "LinearRegression()"
      ]
     },
     "metadata": {},
     "execution_count": 18
    }
   ],
   "metadata": {}
  },
  {
   "cell_type": "code",
   "execution_count": 21,
   "source": [
    "prevision = model.predict(X_test)\r\n",
    "mse(y_test,prevision) , mae(y_test,prevision) , r2(y_test,prevision)"
   ],
   "outputs": [
    {
     "output_type": "execute_result",
     "data": {
      "text/plain": [
       "(5.382381456788698, 1.8719422891134563, 0.2897681227636787)"
      ]
     },
     "metadata": {},
     "execution_count": 21
    }
   ],
   "metadata": {}
  },
  {
   "cell_type": "code",
   "execution_count": 33,
   "source": [
    "results = []\r\n",
    "for n_components in range(2,21):\r\n",
    "    pca = PCA(n_components=n_components)\r\n",
    "    df_pca = pca.fit_transform(df)\r\n",
    "    X_train,X_test,y_train,y_test = train_test_split(df_pca,df['target'],random_state=0)\r\n",
    "    model = LinearRegression()\r\n",
    "    model.fit(X_train,y_train)\r\n",
    "    prevision = model.predict(X_test)\r\n",
    "    results.append((n_components ,mse(y_test,prevision) , mae(y_test,prevision) , r2(y_test,prevision)))"
   ],
   "outputs": [],
   "metadata": {}
  },
  {
   "cell_type": "code",
   "execution_count": 36,
   "source": [
    "import numpy as np\r\n",
    "res = np.array(results)\r\n",
    "snb.lineplot(res[:,0],res[:,3])\r\n",
    "plt.show()"
   ],
   "outputs": [
    {
     "output_type": "stream",
     "name": "stderr",
     "text": [
      "c:\\Users\\enric\\Documents\\GitHub\\quantum_programming\\myenv\\lib\\site-packages\\seaborn\\_decorators.py:36: FutureWarning: Pass the following variables as keyword args: x, y. From version 0.12, the only valid positional argument will be `data`, and passing other arguments without an explicit keyword will result in an error or misinterpretation.\n",
      "  warnings.warn(\n"
     ]
    },
    {
     "output_type": "display_data",
     "data": {
      "image/png": "[encoded data removed]",
      "text/plain": [
       "<Figure size 432x288 with 1 Axes>"
      ]
     },
     "metadata": {
      "needs_background": "light"
     }
    }
   ],
   "metadata": {}
  }
 ],
 "metadata": {
  "orig_nbformat": 4,
  "language_info": {
   "name": "python",
   "version": "3.9.6",
   "mimetype": "text/x-python",
   "codemirror_mode": {
    "name": "ipython",
    "version": 3
   },
   "pygments_lexer": "ipython3",
   "nbconvert_exporter": "python",
   "file_extension": ".py"
  },
  "kernelspec": {
   "name": "python3",
   "display_name": "Python 3.9.6 64-bit ('myenv': venv)"
  },
  "interpreter": {
   "hash": "f0cf2afdafef73e2f8ab4198e61fd33d94d9ec2d1dbf52f6246f9167fe84be78"
  }
 },
 "nbformat": 4,
 "nbformat_minor": 2
}